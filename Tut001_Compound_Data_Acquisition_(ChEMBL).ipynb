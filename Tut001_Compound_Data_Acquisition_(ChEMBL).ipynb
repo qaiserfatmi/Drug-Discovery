{
  "nbformat": 4,
  "nbformat_minor": 0,
  "metadata": {
    "colab": {
      "provenance": []
    },
    "kernelspec": {
      "name": "python3",
      "display_name": "Python 3"
    },
    "language_info": {
      "name": "python"
    }
  },
  "cells": [
    {
      "cell_type": "markdown",
      "source": [
        "**Connect to ChEMBL database**\n",
        "*   First, the ChEMBL web resource client as well as other Python libraries are imported.\n",
        "\n"
      ],
      "metadata": {
        "id": "q32ymYgRJ7IW"
      }
    },
    {
      "cell_type": "code",
      "execution_count": null,
      "metadata": {
        "id": "WxkITVELpEzS"
      },
      "outputs": [],
      "source": [
        "import math\n",
        "from pathlib import Path\n",
        "from zipfile import ZipFile\n",
        "from tempfile import TemporaryDirectory"
      ]
    },
    {
      "cell_type": "code",
      "source": [
        "!pip install \"numpy==1.26.4\" \"pandas==2.1.4\"\n",
        "!pip install rdkit-pypi\n",
        "#!pip install rdkit-pypi\n",
        "import numpy as np\n",
        "import pandas as pd"
      ],
      "metadata": {
        "id": "rln5PTO3qRYw"
      },
      "execution_count": null,
      "outputs": []
    },
    {
      "cell_type": "code",
      "source": [
        "from rdkit import Chem\n",
        "from rdkit.Chem import PandasTools\n",
        "from tqdm.auto import tqdm"
      ],
      "metadata": {
        "id": "GBDOcTC9p60Z"
      },
      "execution_count": null,
      "outputs": []
    },
    {
      "cell_type": "code",
      "source": [
        "!pip install chembl_webresource_client"
      ],
      "metadata": {
        "id": "05ziO2ZkrWWg"
      },
      "execution_count": null,
      "outputs": []
    },
    {
      "cell_type": "code",
      "source": [
        "from chembl_webresource_client.new_client import new_client"
      ],
      "metadata": {
        "id": "zqvA3hQip_Td"
      },
      "execution_count": null,
      "outputs": []
    },
    {
      "cell_type": "code",
      "source": [
        "HERE = Path(_dh[-1])\n",
        "DATA = HERE / 'data'"
      ],
      "metadata": {
        "id": "phTU7L4brF2L"
      },
      "execution_count": null,
      "outputs": []
    },
    {
      "cell_type": "code",
      "source": [
        "targets_api = new_client.target\n",
        "compounds_api = new_client.molecule\n",
        "bioactivities_api = new_client.activity"
      ],
      "metadata": {
        "id": "aWQ4oN0vroBs"
      },
      "execution_count": null,
      "outputs": []
    },
    {
      "cell_type": "code",
      "source": [
        "type(targets_api)"
      ],
      "metadata": {
        "id": "h2BKx6Apr9fb"
      },
      "execution_count": null,
      "outputs": []
    },
    {
      "cell_type": "markdown",
      "source": [
        "**Get target data (EGFR kinase)**\n",
        "\n",
        "\n",
        "*   Get UniProt ID of the target of interest (EGFR kinase: P00533) from UniProt website\n",
        "*   Use UniProt ID to get target information\n",
        "*   Select a different UniProt ID, if you are interested in another target."
      ],
      "metadata": {
        "id": "jF54uKZjJjPf"
      }
    },
    {
      "cell_type": "code",
      "source": [
        "#uniprot_id = \"P00533\"\n",
        "#uniprot_id = \"W8T1G8\"\n",
        "uniprot_id = \"V5TFZ2\""
      ],
      "metadata": {
        "id": "DTCLmhLg280-"
      },
      "execution_count": null,
      "outputs": []
    },
    {
      "cell_type": "code",
      "source": [
        "# Fetch target data from ChEMBL\n",
        "targets = targets_api.get(target_components__accession=uniprot_id).only(['target_chembl_id', 'organism', 'pref_name', 'target_type'])\n",
        "# Get target information from ChEMBL but restrict it to specified values only\n"
      ],
      "metadata": {
        "id": "GOI75QgL52MS"
      },
      "execution_count": null,
      "outputs": []
    },
    {
      "cell_type": "code",
      "source": [
        "print (f'The type of the targets is \"{type(targets)}\"')"
      ],
      "metadata": {
        "id": "9XvdPIrK6exO"
      },
      "execution_count": null,
      "outputs": []
    },
    {
      "cell_type": "code",
      "source": [
        "# Download target data from ChEMBL\n",
        "targets = pd.DataFrame.from_records(targets)\n",
        "targets"
      ],
      "metadata": {
        "id": "vHhSqeEUOjAw"
      },
      "execution_count": null,
      "outputs": []
    },
    {
      "cell_type": "markdown",
      "source": [
        "**Select target (target ChEMBL ID)**\n",
        "\n",
        "*   After checking the entries, we select the first entry as our target of interest:\n",
        "*   CHEMBL203: It is a single protein and represents the human Epidermal growth factor receptor (EGFR, also named erbB1)\n",
        "\n",
        "\n",
        "\n"
      ],
      "metadata": {
        "id": "iFuj0aiiKasX"
      }
    },
    {
      "cell_type": "code",
      "source": [
        "# Select target (target ChEMBL ID)\n",
        "target = targets.iloc[0]   # fetch zero (0) row from the dataframe\n",
        "target"
      ],
      "metadata": {
        "id": "nkZ49ZeyOxJj"
      },
      "execution_count": null,
      "outputs": []
    },
    {
      "cell_type": "markdown",
      "source": [
        "**Get bioactivity data**\n",
        "*   Now, we want to query bioactivity data for the target of interest.\n",
        "\n",
        "**Fetch bioactivity data for the target from ChEMBL**\n",
        "*   In this step, we fetch the bioactivity data and filter it to only consider\n",
        "\n",
        "---\n",
        "\n",
        "\n",
        "\n",
        "*   human proteins,\n",
        "*   bioactivity type IC50,\n",
        "*   exact measurements (relation '='), and\n",
        "*   binding data (assay type 'B').\n",
        "\n"
      ],
      "metadata": {
        "id": "depEI8_7KtOa"
      }
    },
    {
      "cell_type": "code",
      "source": [
        "chembl_id = target.target_chembl_id\n",
        "print(f\"The target ChEMBL ID is {chembl_id}\")\n",
        "# NBVAL_CHECK_OUTPUT"
      ],
      "metadata": {
        "id": "4UQMUITO6vQr"
      },
      "execution_count": null,
      "outputs": []
    },
    {
      "cell_type": "code",
      "source": [
        "bioactivities = bioactivities_api.filter(\n",
        "    target_chembl_id=chembl_id, type=\"IC50\", relation=\"=\", assay_type=\"B\"\n",
        ").only(\n",
        "    \"activity_id\",\n",
        "    \"assay_chembl_id\",\n",
        "    \"assay_description\",\n",
        "    \"assay_type\",\n",
        "    \"molecule_chembl_id\",\n",
        "    \"type\",\n",
        "    \"standard_units\",\n",
        "    \"relation\",\n",
        "    \"standard_value\",\n",
        "    \"target_chembl_id\",\n",
        "    \"target_organism\",\n",
        ")\n",
        "\n",
        "print(f\"Length and type of bioactivities object: {len(bioactivities)}, {type(bioactivities)}\")"
      ],
      "metadata": {
        "id": "Sl7k-tpNuAH5"
      },
      "execution_count": null,
      "outputs": []
    },
    {
      "cell_type": "code",
      "source": [
        "print(f\"Length and type of first element: {len(bioactivities[0])}, {type(bioactivities[0])}\")\n",
        "bioactivities[0]"
      ],
      "metadata": {
        "id": "AY-yoTcLuAV-"
      },
      "execution_count": null,
      "outputs": []
    },
    {
      "cell_type": "code",
      "source": [
        "# Download bioactivity data from ChEMBL\n",
        "bioactivities_df = pd.DataFrame.from_dict(bioactivities)\n",
        "print(f\"DataFrame shape: {bioactivities_df.shape}\")\n",
        "bioactivities_df.head()"
      ],
      "metadata": {
        "id": "pmqlhh8LuAeO"
      },
      "execution_count": null,
      "outputs": []
    },
    {
      "cell_type": "code",
      "source": [
        "bioactivities_df[\"units\"].unique()"
      ],
      "metadata": {
        "id": "-1Ek_9ZKuAi9"
      },
      "execution_count": null,
      "outputs": []
    },
    {
      "cell_type": "code",
      "source": [
        "bioactivities_df.drop([\"units\", \"value\"], axis=1, inplace=True)\n",
        "bioactivities_df.head()"
      ],
      "metadata": {
        "id": "Sp6s5TejFbF5"
      },
      "execution_count": null,
      "outputs": []
    },
    {
      "cell_type": "markdown",
      "source": [
        "**Preprocess and filter bioactivity data**\n",
        "\n",
        "*   Convert standard_value’s datatype from object to float\n",
        "*   Delete entries with missing values\n",
        "*   Keep only entries with standard_unit == nM\n",
        "*   Delete duplicate molecules\n",
        "*   Reset DataFrame index\n",
        "*   Rename columns"
      ],
      "metadata": {
        "id": "3BDy8JyLIKOf"
      }
    },
    {
      "cell_type": "code",
      "source": [
        "# Convert datatype of “standard_value” from “object” to “float”\n",
        "bioactivities_df.dtypes"
      ],
      "metadata": {
        "id": "BWtK9SgnFlqQ"
      },
      "execution_count": null,
      "outputs": []
    },
    {
      "cell_type": "code",
      "source": [
        "bioactivities_df = bioactivities_df.astype({\"standard_value\": \"float64\"})\n",
        "bioactivities_df.dtypes"
      ],
      "metadata": {
        "id": "ohZXwMaIFmKd"
      },
      "execution_count": null,
      "outputs": []
    },
    {
      "cell_type": "code",
      "source": [
        "# Delete entries with missing values\n",
        "bioactivities_df.dropna(axis=0, how=\"any\", inplace=True)\n",
        "print(f\"DataFrame shape: {bioactivities_df.shape}\")"
      ],
      "metadata": {
        "id": "q-MNWjqzFmM1"
      },
      "execution_count": null,
      "outputs": []
    },
    {
      "cell_type": "code",
      "source": [
        "# Keep only entries with “standard_unit == nM”\n",
        "print(f\"Units in downloaded data: {bioactivities_df['standard_units'].unique()}\")\n",
        "print(\n",
        "    f\"Number of non-nM entries:\\\n",
        "    {bioactivities_df[bioactivities_df['standard_units'] != 'nM'].shape[0]}\"\n",
        ")"
      ],
      "metadata": {
        "id": "hL6WQeOUFmPc"
      },
      "execution_count": null,
      "outputs": []
    },
    {
      "cell_type": "code",
      "source": [
        "bioactivities_df = bioactivities_df[bioactivities_df[\"standard_units\"] == \"nM\"]\n",
        "print(f\"Units after filtering: {bioactivities_df['standard_units'].unique()}\")"
      ],
      "metadata": {
        "id": "eVk1YKUPFmSO"
      },
      "execution_count": null,
      "outputs": []
    },
    {
      "cell_type": "code",
      "source": [
        "print(f\"DataFrame shape: {bioactivities_df.shape}\")"
      ],
      "metadata": {
        "id": "5jikgR0oFmU7"
      },
      "execution_count": null,
      "outputs": []
    },
    {
      "cell_type": "code",
      "source": [
        "# Delete duplicate molecules\n",
        "bioactivities_df.drop_duplicates(\"molecule_chembl_id\", keep=\"first\", inplace=True)\n",
        "print(f\"DataFrame shape: {bioactivities_df.shape}\")"
      ],
      "metadata": {
        "id": "o_COoy8EF7gz"
      },
      "execution_count": null,
      "outputs": []
    },
    {
      "cell_type": "code",
      "source": [
        "# Reset “DataFrame” index\n",
        "bioactivities_df.reset_index(drop=True, inplace=True)\n",
        "bioactivities_df.head()"
      ],
      "metadata": {
        "id": "xzdo8b_-F7ne"
      },
      "execution_count": null,
      "outputs": []
    },
    {
      "cell_type": "code",
      "source": [
        "# Rename columns --> standard_value to IC50 and standard_units to units\n",
        "bioactivities_df.rename(\n",
        "    columns={\"standard_value\": \"IC50\", \"standard_units\": \"units\"}, inplace=True\n",
        ")\n",
        "bioactivities_df.head()"
      ],
      "metadata": {
        "id": "srVoHyJRF7r2"
      },
      "execution_count": null,
      "outputs": []
    },
    {
      "cell_type": "code",
      "source": [
        "print(f\"DataFrame shape: {bioactivities_df.shape}\")"
      ],
      "metadata": {
        "id": "n4y-HWU8F7wh"
      },
      "execution_count": null,
      "outputs": []
    },
    {
      "cell_type": "code",
      "source": [
        "# Fetch compound data from ChEMBL\n",
        "compounds_provider = compounds_api.filter(\n",
        "    molecule_chembl_id__in=list(bioactivities_df[\"molecule_chembl_id\"])\n",
        ").only(\"molecule_chembl_id\", \"molecule_structures\")"
      ],
      "metadata": {
        "id": "Ss5kUZonF70-"
      },
      "execution_count": null,
      "outputs": []
    },
    {
      "cell_type": "code",
      "source": [
        "compounds = list(tqdm(compounds_provider))  #Download compound data from ChEMBL"
      ],
      "metadata": {
        "id": "b5pHMF53F74V"
      },
      "execution_count": null,
      "outputs": []
    },
    {
      "cell_type": "code",
      "source": [
        "compounds_df = pd.DataFrame.from_records(\n",
        "    compounds,\n",
        ")\n",
        "print(f\"DataFrame shape: {compounds_df.shape}\")"
      ],
      "metadata": {
        "id": "3-7EVLP3F78g"
      },
      "execution_count": null,
      "outputs": []
    },
    {
      "cell_type": "code",
      "source": [
        "compounds_df.head()"
      ],
      "metadata": {
        "id": "DWe6bKHAF8Bt"
      },
      "execution_count": null,
      "outputs": []
    },
    {
      "cell_type": "code",
      "source": [
        "# Remove entries with missing molecule structure entry\n",
        "compounds_df.dropna(axis=0, how=\"any\", inplace=True)\n",
        "print(f\"DataFrame shape: {compounds_df.shape}\")"
      ],
      "metadata": {
        "id": "XZY0aIc6Gjbp"
      },
      "execution_count": null,
      "outputs": []
    },
    {
      "cell_type": "code",
      "source": [
        "# Delete duplicate molecules\n",
        "compounds_df.drop_duplicates(\"molecule_chembl_id\", keep=\"first\", inplace=True)\n",
        "print(f\"DataFrame shape: {compounds_df.shape}\")"
      ],
      "metadata": {
        "id": "CF7Qlh32Gjez"
      },
      "execution_count": null,
      "outputs": []
    },
    {
      "cell_type": "code",
      "source": [
        "# Get molecules with canonical SMILES\n",
        "compounds_df.iloc[0].molecule_structures.keys()"
      ],
      "metadata": {
        "id": "W9GDNJx7Gjhn"
      },
      "execution_count": null,
      "outputs": []
    },
    {
      "cell_type": "code",
      "source": [
        "canonical_smiles = []\n",
        "\n",
        "for i, compounds in compounds_df.iterrows():\n",
        "    try:\n",
        "        canonical_smiles.append(compounds[\"molecule_structures\"][\"canonical_smiles\"])\n",
        "    except KeyError:\n",
        "        canonical_smiles.append(None)\n",
        "\n",
        "compounds_df[\"smiles\"] = canonical_smiles\n",
        "compounds_df.drop(\"molecule_structures\", axis=1, inplace=True)\n",
        "print(f\"DataFrame shape: {compounds_df.shape}\")"
      ],
      "metadata": {
        "id": "4vWvar0VGjki"
      },
      "execution_count": null,
      "outputs": []
    },
    {
      "cell_type": "code",
      "source": [
        "compounds_df.dropna(axis=0, how=\"any\", inplace=True)\n",
        "print(f\"DataFrame shape: {compounds_df.shape}\")"
      ],
      "metadata": {
        "id": "UvVcEoboGjnW"
      },
      "execution_count": null,
      "outputs": []
    },
    {
      "cell_type": "code",
      "source": [
        "# Summary of compound and bioactivity data\n",
        "print(f\"Bioactivities filtered: {bioactivities_df.shape[0]}\")\n",
        "bioactivities_df.columns"
      ],
      "metadata": {
        "id": "AbEgnbYOGjqR"
      },
      "execution_count": null,
      "outputs": []
    },
    {
      "cell_type": "code",
      "source": [
        "print(f\"Compounds filtered: {compounds_df.shape[0]}\")\n",
        "compounds_df.columns"
      ],
      "metadata": {
        "id": "D2_c5zz-GjtX"
      },
      "execution_count": null,
      "outputs": []
    },
    {
      "cell_type": "markdown",
      "source": [
        "**Merge both datasets**\n",
        "\n",
        "---\n",
        "\n",
        "\n",
        "Merge values of interest from bioactivities_df and compounds_df in an output_df\n",
        "based on the compounds’ ChEMBL IDs (molecule_chembl_id), keeping the following columns:\n",
        "---\n",
        "* ChEMBL IDs: molecule_chembl_id\n",
        "* SMILES: smiles\n",
        "* units: units\n",
        "* IC50: IC50"
      ],
      "metadata": {
        "id": "pIKNiCw1YAv-"
      }
    },
    {
      "cell_type": "code",
      "source": [
        "# Merge DataFrames\n",
        "output_df = pd.merge(\n",
        "    bioactivities_df[[\"molecule_chembl_id\", \"IC50\", \"units\"]],\n",
        "    compounds_df,\n",
        "    on=\"molecule_chembl_id\",\n",
        ")\n",
        "\n",
        "# Reset row indices\n",
        "output_df.reset_index(drop=True, inplace=True)\n",
        "\n",
        "print(f\"Dataset with {output_df.shape[0]} entries.\")"
      ],
      "metadata": {
        "id": "31BPl0yQGjxP"
      },
      "execution_count": null,
      "outputs": []
    },
    {
      "cell_type": "code",
      "source": [
        "output_df.dtypes"
      ],
      "metadata": {
        "id": "Wp54lPhfYXuE"
      },
      "execution_count": null,
      "outputs": []
    },
    {
      "cell_type": "code",
      "source": [
        "output_df.head(10)"
      ],
      "metadata": {
        "id": "BoXjLVW6YXwO"
      },
      "execution_count": null,
      "outputs": []
    },
    {
      "cell_type": "code",
      "source": [
        "# Add pIC50 values\n",
        "def convert_ic50_to_pic50(IC50_value):\n",
        "    pIC50_value = 9 - math.log10(IC50_value)\n",
        "    return pIC50_value"
      ],
      "metadata": {
        "id": "2umePzG2YX3o"
      },
      "execution_count": null,
      "outputs": []
    },
    {
      "cell_type": "code",
      "source": [
        "# Apply conversion to each row of the compounds DataFrame\n",
        "output_df[\"pIC50\"] = output_df.apply(lambda x: convert_ic50_to_pic50(x.IC50), axis=1)"
      ],
      "metadata": {
        "id": "Ub98iav1YX7E"
      },
      "execution_count": null,
      "outputs": []
    },
    {
      "cell_type": "code",
      "source": [
        "output_df.head()"
      ],
      "metadata": {
        "id": "KgnGLpWDYX95"
      },
      "execution_count": null,
      "outputs": []
    },
    {
      "cell_type": "markdown",
      "source": [
        "**Draw compound data**\n",
        "*   Let’s have a look at our collected data set.\n",
        "*   First, we plot the pIC50 value distribution"
      ],
      "metadata": {
        "id": "HXb-aW9cYqvu"
      }
    },
    {
      "cell_type": "code",
      "source": [
        "output_df.hist(column=\"pIC50\")"
      ],
      "metadata": {
        "id": "cLCe1zFYYYBA"
      },
      "execution_count": null,
      "outputs": []
    },
    {
      "cell_type": "code",
      "source": [
        "# Add molecule column\n",
        "PandasTools.AddMoleculeColumnToFrame(output_df, smilesCol=\"smiles\")"
      ],
      "metadata": {
        "id": "q6nMs4J3Y4l5"
      },
      "execution_count": null,
      "outputs": []
    },
    {
      "cell_type": "code",
      "source": [
        "# Sort molecules by pIC50\n",
        "output_df.sort_values(by=\"pIC50\", ascending=False, inplace=True)\n",
        "\n",
        "# Reset index\n",
        "output_df.reset_index(drop=True, inplace=True)"
      ],
      "metadata": {
        "id": "lxi8qD4bY4ok"
      },
      "execution_count": null,
      "outputs": []
    },
    {
      "cell_type": "code",
      "source": [
        "output_df.drop(\"smiles\", axis=1).head(3)"
      ],
      "metadata": {
        "id": "6UtVh9AEY4rC"
      },
      "execution_count": null,
      "outputs": []
    },
    {
      "cell_type": "code",
      "source": [
        "# Prepare saving the dataset: Drop the ROMol column\n",
        "output_df = output_df.drop(\"ROMol\", axis=1)\n",
        "print(f\"DataFrame shape: {output_df.shape}\")"
      ],
      "metadata": {
        "id": "OgTGX0CaY4ui"
      },
      "execution_count": null,
      "outputs": []
    },
    {
      "cell_type": "code",
      "source": [
        "output_df.to_csv(\"/content/Denv-2_NS5/NS5_compounds.csv\")\n",
        "output_df.head()"
      ],
      "metadata": {
        "id": "KTDQTfW8Y4xd"
      },
      "execution_count": null,
      "outputs": []
    },
    {
      "cell_type": "code",
      "source": [
        "print(f\"DataFrame shape: {output_df.shape}\")\n",
        "# NBVAL_CHECK_OUTPUT"
      ],
      "metadata": {
        "id": "XI1jsf-LY426"
      },
      "execution_count": null,
      "outputs": []
    },
    {
      "cell_type": "code",
      "source": [],
      "metadata": {
        "id": "ofOWDbupY47m"
      },
      "execution_count": null,
      "outputs": []
    }
  ]
}